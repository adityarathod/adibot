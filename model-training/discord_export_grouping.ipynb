{
 "cells": [
  {
   "cell_type": "markdown",
   "id": "dca6afe0",
   "metadata": {},
   "source": [
    "# Discord export processing\n",
    "\n",
    "One of the challenges I faced when training a model on my messages was a lack of good context. Since a Discord export only contains my own messages and not the replies of others, I had to create a new way of providing context to the model, by grouping messages in the same channel during the same time period together."
   ]
  },
  {
   "cell_type": "code",
   "execution_count": 34,
   "id": "a389088a-941d-475c-bcb5-2d22184bf2db",
   "metadata": {},
   "outputs": [],
   "source": [
    "# SPDX-License-Identifier: MIT\n",
    "\n",
    "import polars as pl\n",
    "import numpy as np"
   ]
  },
  {
   "cell_type": "code",
   "execution_count": 35,
   "id": "886a40a3-4806-44c0-a7f6-fa2d04da558f",
   "metadata": {},
   "outputs": [],
   "source": [
    "np.random.seed(42)"
   ]
  },
  {
   "cell_type": "code",
   "execution_count": 36,
   "id": "fab3ad6a-22c3-482c-993d-87ffe4be9156",
   "metadata": {},
   "outputs": [],
   "source": [
    "# convert the raw data to jsonl format\n",
    "!./convert_raw_data_to_jsonl.sh"
   ]
  },
  {
   "cell_type": "code",
   "execution_count": 37,
   "id": "8881afa7-ac98-4c70-9b0a-5192788b2651",
   "metadata": {},
   "outputs": [],
   "source": [
    "df = pl.scan_ndjson('./raw_data/**/messages.jsonl', include_file_paths=\"channel\").collect().sort('channel')"
   ]
  },
  {
   "cell_type": "code",
   "execution_count": 38,
   "id": "3bee5f73-27da-44c3-976b-1314bcf4a26e",
   "metadata": {},
   "outputs": [],
   "source": [
    "# categorize data by channel and convert the timestamp to datetime\n",
    "df = df.with_columns([\n",
    "    pl.col('channel').str.replace('raw_data', '').str.replace_all('/','').str.replace('messages.jsonl', '').cast(pl.Categorical),\n",
    "    pl.col('Timestamp').str.strptime(pl.Datetime, '%Y-%m-%d %H:%M:%S')\n",
    "])"
   ]
  },
  {
   "cell_type": "code",
   "execution_count": 39,
   "id": "aa80f27f-d000-4f24-8bc4-c39c457198ef",
   "metadata": {},
   "outputs": [],
   "source": [
    "# sort by datetime\n",
    "df = df.sort('Timestamp')"
   ]
  },
  {
   "cell_type": "code",
   "execution_count": 40,
   "id": "1533c5be-bb73-4a12-9e13-d7b8c38a8411",
   "metadata": {},
   "outputs": [],
   "source": [
    "# calculate time difference from previous row in seconds\n",
    "df = df.with_columns(\n",
    "    pl.col('Timestamp').diff().over('channel').fill_null(pl.duration(seconds=0)).alias('time_diff')\n",
    ")\n",
    "\n",
    "# create a group identifier based on whether the time difference is greater than 15 minutes\n",
    "# (you may need to adjust this threshold based on how often you want to group messages)\n",
    "df = df.with_columns(\n",
    "    ((pl.col('time_diff') > pl.duration(minutes=15)).cum_sum()).alias('group')\n",
    ")\n",
    "\n",
    "# group by the new group column and aggregate\n",
    "grouped = (\n",
    "    df.group_by('channel', 'group')\n",
    "    .agg([\n",
    "        pl.col('Timestamp').min().alias('start_time'),\n",
    "        pl.col('Timestamp').max().alias('end_time'),\n",
    "        pl.col('Contents').str.concat(\"\\n\").alias('GroupContents')\n",
    "    ])\n",
    ").sort('end_time')\n",
    "\n",
    "# select and rename columns for output\n",
    "outframe = grouped.select(\n",
    "    pl.col('GroupContents').alias('text')\n",
    ")"
   ]
  },
  {
   "cell_type": "code",
   "execution_count": 41,
   "id": "cbc4b758-d94d-4917-ab47-18f05049b895",
   "metadata": {},
   "outputs": [],
   "source": [
    "# write all data to jsonl\n",
    "outframe.write_ndjson('./data/all.jsonl')"
   ]
  },
  {
   "cell_type": "code",
   "execution_count": 42,
   "id": "7bf8c26b-068b-4575-a053-b77a219804d6",
   "metadata": {},
   "outputs": [],
   "source": [
    "# shuffle for train/val split\n",
    "outframe = outframe.with_columns(pl.Series(name=\"random\", values=np.random.rand(outframe.height))).sort(\"random\").drop(\"random\")\n",
    "\n",
    "# calculate 90% of the row count for training, the rest for validation\n",
    "train_size = int(0.9 * outframe.height)\n",
    "val_size = outframe.height - train_size\n",
    "outframe.head(train_size).write_ndjson('./data/train.jsonl')\n",
    "outframe.tail(val_size).write_ndjson('./data/valid.jsonl')"
   ]
  }
 ],
 "metadata": {
  "kernelspec": {
   "display_name": "Python 3 (ipykernel)",
   "language": "python",
   "name": "python3"
  },
  "language_info": {
   "codemirror_mode": {
    "name": "ipython",
    "version": 3
   },
   "file_extension": ".py",
   "mimetype": "text/x-python",
   "name": "python",
   "nbconvert_exporter": "python",
   "pygments_lexer": "ipython3",
   "version": "3.12.4"
  }
 },
 "nbformat": 4,
 "nbformat_minor": 5
}
